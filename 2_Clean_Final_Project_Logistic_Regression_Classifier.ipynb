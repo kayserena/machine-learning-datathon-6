{
  "nbformat": 4,
  "nbformat_minor": 0,
  "metadata": {
    "colab": {
      "provenance": [],
      "toc_visible": true,
      "include_colab_link": true
    },
    "kernelspec": {
      "name": "python3",
      "display_name": "Python 3"
    },
    "language_info": {
      "name": "python"
    }
  },
  "cells": [
    {
      "cell_type": "markdown",
      "metadata": {
        "id": "view-in-github",
        "colab_type": "text"
      },
      "source": [
        "<a href=\"https://colab.research.google.com/github/kayserena/machine-learning-datathon-6/blob/main/2_Clean_Final_Project_Logistic_Regression_Classifier.ipynb\" target=\"_parent\"><img src=\"https://colab.research.google.com/assets/colab-badge.svg\" alt=\"Open In Colab\"/></a>"
      ]
    },
    {
      "cell_type": "markdown",
      "source": [
        "**NOTE: The features used in this model were validated in the EDA + Neural Network codebook using the RFECV feature selection method; as shown in GitHub**"
      ],
      "metadata": {
        "id": "V4H-aoB2c7zp"
      }
    },
    {
      "cell_type": "markdown",
      "source": [
        "# 1.0 Loading Libraries and Data"
      ],
      "metadata": {
        "id": "AswL_0oYc4cH"
      }
    },
    {
      "cell_type": "code",
      "execution_count": null,
      "metadata": {
        "id": "8N_-OKNNclJi"
      },
      "outputs": [],
      "source": [
        "import pandas as pd\n",
        "from sklearn import datasets\n",
        "from sklearn.metrics import accuracy_score\n",
        "import matplotlib.pyplot as plt\n",
        "from sklearn.model_selection import train_test_split\n",
        "from sklearn.preprocessing import StandardScaler, LabelEncoder\n",
        "from sklearn.neighbors import KNeighborsClassifier\n",
        "from sklearn.metrics import classification_report, confusion_matrix\n",
        "from sklearn.metrics import precision_score, accuracy_score, recall_score, f1_score, roc_auc_score\n",
        "import seaborn as sns\n",
        "import numpy as np\n",
        "from sklearn.feature_selection import RFECV\n",
        "from sklearn.linear_model import LogisticRegression\n",
        "from sklearn.model_selection import StratifiedKFold\n",
        "import random\n",
        "# !pip install missingno\n",
        "import missingno as msno\n",
        "from sklearn.impute import SimpleImputer\n",
        "import matplotlib.pyplot as plt\n",
        "from sklearn.preprocessing import StandardScaler\n",
        "from sklearn.feature_selection import RFECV\n",
        "from sklearn.linear_model import LogisticRegression\n",
        "from sklearn.model_selection import StratifiedKFold"
      ]
    },
    {
      "cell_type": "code",
      "source": [
        "df = pd.read_excel('Diabetes Study File 10K Dec 14 2017.xlsx')\n",
        "df.head()"
      ],
      "metadata": {
        "colab": {
          "base_uri": "https://localhost:8080/",
          "height": 342
        },
        "id": "LAEkndX8c3CP",
        "outputId": "e5fbb9ed-4ae6-467c-e0d2-af214cb1da98"
      },
      "execution_count": null,
      "outputs": [
        {
          "output_type": "execute_result",
          "data": {
            "text/plain": [
              "   Age_at_Exam    sBP   sBP_Date        BMI   BMI_Date   LDL   LDL_Date   HDL  \\\n",
              "0           65  126.0 2013-06-11  31.000000 2013-06-11  1.66 2013-06-14  1.11   \n",
              "1           62  135.0 2014-06-19  25.846483 2014-10-17  2.49 2014-05-28  1.37   \n",
              "2           63  133.0 2012-07-31  30.900000 2011-12-01  1.65 2012-06-01   NaN   \n",
              "3           51  136.0 2014-01-06  56.710775 2014-01-06  2.80 2014-01-14  1.94   \n",
              "4           40  123.0 2015-06-12  33.067867 2015-06-12  2.48 2015-06-24  1.17   \n",
              "\n",
              "    HDL_Date  A1c  ... leastO(A1c_Date)  leastO(DM_OnsetDate)  \\\n",
              "0 2013-06-14  5.4  ...              NaN                   NaN   \n",
              "1 2014-05-28  5.8  ...              NaN                   NaN   \n",
              "2        NaT  6.1  ...              NaN                   NaN   \n",
              "3 2014-01-14  6.0  ...              NaN                   NaN   \n",
              "4 2015-06-24  5.8  ...              NaN                   NaN   \n",
              "\n",
              "  leastO(FBS_Date)  LeastOfAll A1C_BEF_DM  FBS_BEF_DM        Patient_ID  \\\n",
              "0              NaN         NaN        NaN         NaN  4001000000255903   \n",
              "1              NaN         NaN        NaN         NaN  4001000000256456   \n",
              "2              NaN         NaN        NaN         NaN  1001000000000054   \n",
              "3              NaN         NaN        NaN         NaN  4001000000259496   \n",
              "4              NaN         NaN        NaN         NaN  4001000000262094   \n",
              "\n",
              "  DM_Onset_Revised  DM_Onset_Revised_1YrPrior DIABETES  \n",
              "0              NaT                        NaT       No  \n",
              "1              NaT                        NaT       No  \n",
              "2              NaT                        NaT       No  \n",
              "3              NaT                        NaT       No  \n",
              "4              NaT                        NaT       No  \n",
              "\n",
              "[5 rows x 43 columns]"
            ],
            "text/html": [
              "\n",
              "  <div id=\"df-1c99de5c-e7b9-4d65-88bd-5602dd08b97e\" class=\"colab-df-container\">\n",
              "    <div>\n",
              "<style scoped>\n",
              "    .dataframe tbody tr th:only-of-type {\n",
              "        vertical-align: middle;\n",
              "    }\n",
              "\n",
              "    .dataframe tbody tr th {\n",
              "        vertical-align: top;\n",
              "    }\n",
              "\n",
              "    .dataframe thead th {\n",
              "        text-align: right;\n",
              "    }\n",
              "</style>\n",
              "<table border=\"1\" class=\"dataframe\">\n",
              "  <thead>\n",
              "    <tr style=\"text-align: right;\">\n",
              "      <th></th>\n",
              "      <th>Age_at_Exam</th>\n",
              "      <th>sBP</th>\n",
              "      <th>sBP_Date</th>\n",
              "      <th>BMI</th>\n",
              "      <th>BMI_Date</th>\n",
              "      <th>LDL</th>\n",
              "      <th>LDL_Date</th>\n",
              "      <th>HDL</th>\n",
              "      <th>HDL_Date</th>\n",
              "      <th>A1c</th>\n",
              "      <th>...</th>\n",
              "      <th>leastO(A1c_Date)</th>\n",
              "      <th>leastO(DM_OnsetDate)</th>\n",
              "      <th>leastO(FBS_Date)</th>\n",
              "      <th>LeastOfAll</th>\n",
              "      <th>A1C_BEF_DM</th>\n",
              "      <th>FBS_BEF_DM</th>\n",
              "      <th>Patient_ID</th>\n",
              "      <th>DM_Onset_Revised</th>\n",
              "      <th>DM_Onset_Revised_1YrPrior</th>\n",
              "      <th>DIABETES</th>\n",
              "    </tr>\n",
              "  </thead>\n",
              "  <tbody>\n",
              "    <tr>\n",
              "      <th>0</th>\n",
              "      <td>65</td>\n",
              "      <td>126.0</td>\n",
              "      <td>2013-06-11</td>\n",
              "      <td>31.000000</td>\n",
              "      <td>2013-06-11</td>\n",
              "      <td>1.66</td>\n",
              "      <td>2013-06-14</td>\n",
              "      <td>1.11</td>\n",
              "      <td>2013-06-14</td>\n",
              "      <td>5.4</td>\n",
              "      <td>...</td>\n",
              "      <td>NaN</td>\n",
              "      <td>NaN</td>\n",
              "      <td>NaN</td>\n",
              "      <td>NaN</td>\n",
              "      <td>NaN</td>\n",
              "      <td>NaN</td>\n",
              "      <td>4001000000255903</td>\n",
              "      <td>NaT</td>\n",
              "      <td>NaT</td>\n",
              "      <td>No</td>\n",
              "    </tr>\n",
              "    <tr>\n",
              "      <th>1</th>\n",
              "      <td>62</td>\n",
              "      <td>135.0</td>\n",
              "      <td>2014-06-19</td>\n",
              "      <td>25.846483</td>\n",
              "      <td>2014-10-17</td>\n",
              "      <td>2.49</td>\n",
              "      <td>2014-05-28</td>\n",
              "      <td>1.37</td>\n",
              "      <td>2014-05-28</td>\n",
              "      <td>5.8</td>\n",
              "      <td>...</td>\n",
              "      <td>NaN</td>\n",
              "      <td>NaN</td>\n",
              "      <td>NaN</td>\n",
              "      <td>NaN</td>\n",
              "      <td>NaN</td>\n",
              "      <td>NaN</td>\n",
              "      <td>4001000000256456</td>\n",
              "      <td>NaT</td>\n",
              "      <td>NaT</td>\n",
              "      <td>No</td>\n",
              "    </tr>\n",
              "    <tr>\n",
              "      <th>2</th>\n",
              "      <td>63</td>\n",
              "      <td>133.0</td>\n",
              "      <td>2012-07-31</td>\n",
              "      <td>30.900000</td>\n",
              "      <td>2011-12-01</td>\n",
              "      <td>1.65</td>\n",
              "      <td>2012-06-01</td>\n",
              "      <td>NaN</td>\n",
              "      <td>NaT</td>\n",
              "      <td>6.1</td>\n",
              "      <td>...</td>\n",
              "      <td>NaN</td>\n",
              "      <td>NaN</td>\n",
              "      <td>NaN</td>\n",
              "      <td>NaN</td>\n",
              "      <td>NaN</td>\n",
              "      <td>NaN</td>\n",
              "      <td>1001000000000054</td>\n",
              "      <td>NaT</td>\n",
              "      <td>NaT</td>\n",
              "      <td>No</td>\n",
              "    </tr>\n",
              "    <tr>\n",
              "      <th>3</th>\n",
              "      <td>51</td>\n",
              "      <td>136.0</td>\n",
              "      <td>2014-01-06</td>\n",
              "      <td>56.710775</td>\n",
              "      <td>2014-01-06</td>\n",
              "      <td>2.80</td>\n",
              "      <td>2014-01-14</td>\n",
              "      <td>1.94</td>\n",
              "      <td>2014-01-14</td>\n",
              "      <td>6.0</td>\n",
              "      <td>...</td>\n",
              "      <td>NaN</td>\n",
              "      <td>NaN</td>\n",
              "      <td>NaN</td>\n",
              "      <td>NaN</td>\n",
              "      <td>NaN</td>\n",
              "      <td>NaN</td>\n",
              "      <td>4001000000259496</td>\n",
              "      <td>NaT</td>\n",
              "      <td>NaT</td>\n",
              "      <td>No</td>\n",
              "    </tr>\n",
              "    <tr>\n",
              "      <th>4</th>\n",
              "      <td>40</td>\n",
              "      <td>123.0</td>\n",
              "      <td>2015-06-12</td>\n",
              "      <td>33.067867</td>\n",
              "      <td>2015-06-12</td>\n",
              "      <td>2.48</td>\n",
              "      <td>2015-06-24</td>\n",
              "      <td>1.17</td>\n",
              "      <td>2015-06-24</td>\n",
              "      <td>5.8</td>\n",
              "      <td>...</td>\n",
              "      <td>NaN</td>\n",
              "      <td>NaN</td>\n",
              "      <td>NaN</td>\n",
              "      <td>NaN</td>\n",
              "      <td>NaN</td>\n",
              "      <td>NaN</td>\n",
              "      <td>4001000000262094</td>\n",
              "      <td>NaT</td>\n",
              "      <td>NaT</td>\n",
              "      <td>No</td>\n",
              "    </tr>\n",
              "  </tbody>\n",
              "</table>\n",
              "<p>5 rows × 43 columns</p>\n",
              "</div>\n",
              "    <div class=\"colab-df-buttons\">\n",
              "\n",
              "  <div class=\"colab-df-container\">\n",
              "    <button class=\"colab-df-convert\" onclick=\"convertToInteractive('df-1c99de5c-e7b9-4d65-88bd-5602dd08b97e')\"\n",
              "            title=\"Convert this dataframe to an interactive table.\"\n",
              "            style=\"display:none;\">\n",
              "\n",
              "  <svg xmlns=\"http://www.w3.org/2000/svg\" height=\"24px\" viewBox=\"0 -960 960 960\">\n",
              "    <path d=\"M120-120v-720h720v720H120Zm60-500h600v-160H180v160Zm220 220h160v-160H400v160Zm0 220h160v-160H400v160ZM180-400h160v-160H180v160Zm440 0h160v-160H620v160ZM180-180h160v-160H180v160Zm440 0h160v-160H620v160Z\"/>\n",
              "  </svg>\n",
              "    </button>\n",
              "\n",
              "  <style>\n",
              "    .colab-df-container {\n",
              "      display:flex;\n",
              "      gap: 12px;\n",
              "    }\n",
              "\n",
              "    .colab-df-convert {\n",
              "      background-color: #E8F0FE;\n",
              "      border: none;\n",
              "      border-radius: 50%;\n",
              "      cursor: pointer;\n",
              "      display: none;\n",
              "      fill: #1967D2;\n",
              "      height: 32px;\n",
              "      padding: 0 0 0 0;\n",
              "      width: 32px;\n",
              "    }\n",
              "\n",
              "    .colab-df-convert:hover {\n",
              "      background-color: #E2EBFA;\n",
              "      box-shadow: 0px 1px 2px rgba(60, 64, 67, 0.3), 0px 1px 3px 1px rgba(60, 64, 67, 0.15);\n",
              "      fill: #174EA6;\n",
              "    }\n",
              "\n",
              "    .colab-df-buttons div {\n",
              "      margin-bottom: 4px;\n",
              "    }\n",
              "\n",
              "    [theme=dark] .colab-df-convert {\n",
              "      background-color: #3B4455;\n",
              "      fill: #D2E3FC;\n",
              "    }\n",
              "\n",
              "    [theme=dark] .colab-df-convert:hover {\n",
              "      background-color: #434B5C;\n",
              "      box-shadow: 0px 1px 3px 1px rgba(0, 0, 0, 0.15);\n",
              "      filter: drop-shadow(0px 1px 2px rgba(0, 0, 0, 0.3));\n",
              "      fill: #FFFFFF;\n",
              "    }\n",
              "  </style>\n",
              "\n",
              "    <script>\n",
              "      const buttonEl =\n",
              "        document.querySelector('#df-1c99de5c-e7b9-4d65-88bd-5602dd08b97e button.colab-df-convert');\n",
              "      buttonEl.style.display =\n",
              "        google.colab.kernel.accessAllowed ? 'block' : 'none';\n",
              "\n",
              "      async function convertToInteractive(key) {\n",
              "        const element = document.querySelector('#df-1c99de5c-e7b9-4d65-88bd-5602dd08b97e');\n",
              "        const dataTable =\n",
              "          await google.colab.kernel.invokeFunction('convertToInteractive',\n",
              "                                                    [key], {});\n",
              "        if (!dataTable) return;\n",
              "\n",
              "        const docLinkHtml = 'Like what you see? Visit the ' +\n",
              "          '<a target=\"_blank\" href=https://colab.research.google.com/notebooks/data_table.ipynb>data table notebook</a>'\n",
              "          + ' to learn more about interactive tables.';\n",
              "        element.innerHTML = '';\n",
              "        dataTable['output_type'] = 'display_data';\n",
              "        await google.colab.output.renderOutput(dataTable, element);\n",
              "        const docLink = document.createElement('div');\n",
              "        docLink.innerHTML = docLinkHtml;\n",
              "        element.appendChild(docLink);\n",
              "      }\n",
              "    </script>\n",
              "  </div>\n",
              "\n",
              "\n",
              "<div id=\"df-759cd22c-6a6c-4ce4-8a2a-8ba4a8d00ee9\">\n",
              "  <button class=\"colab-df-quickchart\" onclick=\"quickchart('df-759cd22c-6a6c-4ce4-8a2a-8ba4a8d00ee9')\"\n",
              "            title=\"Suggest charts\"\n",
              "            style=\"display:none;\">\n",
              "\n",
              "<svg xmlns=\"http://www.w3.org/2000/svg\" height=\"24px\"viewBox=\"0 0 24 24\"\n",
              "     width=\"24px\">\n",
              "    <g>\n",
              "        <path d=\"M19 3H5c-1.1 0-2 .9-2 2v14c0 1.1.9 2 2 2h14c1.1 0 2-.9 2-2V5c0-1.1-.9-2-2-2zM9 17H7v-7h2v7zm4 0h-2V7h2v10zm4 0h-2v-4h2v4z\"/>\n",
              "    </g>\n",
              "</svg>\n",
              "  </button>\n",
              "\n",
              "<style>\n",
              "  .colab-df-quickchart {\n",
              "      --bg-color: #E8F0FE;\n",
              "      --fill-color: #1967D2;\n",
              "      --hover-bg-color: #E2EBFA;\n",
              "      --hover-fill-color: #174EA6;\n",
              "      --disabled-fill-color: #AAA;\n",
              "      --disabled-bg-color: #DDD;\n",
              "  }\n",
              "\n",
              "  [theme=dark] .colab-df-quickchart {\n",
              "      --bg-color: #3B4455;\n",
              "      --fill-color: #D2E3FC;\n",
              "      --hover-bg-color: #434B5C;\n",
              "      --hover-fill-color: #FFFFFF;\n",
              "      --disabled-bg-color: #3B4455;\n",
              "      --disabled-fill-color: #666;\n",
              "  }\n",
              "\n",
              "  .colab-df-quickchart {\n",
              "    background-color: var(--bg-color);\n",
              "    border: none;\n",
              "    border-radius: 50%;\n",
              "    cursor: pointer;\n",
              "    display: none;\n",
              "    fill: var(--fill-color);\n",
              "    height: 32px;\n",
              "    padding: 0;\n",
              "    width: 32px;\n",
              "  }\n",
              "\n",
              "  .colab-df-quickchart:hover {\n",
              "    background-color: var(--hover-bg-color);\n",
              "    box-shadow: 0 1px 2px rgba(60, 64, 67, 0.3), 0 1px 3px 1px rgba(60, 64, 67, 0.15);\n",
              "    fill: var(--button-hover-fill-color);\n",
              "  }\n",
              "\n",
              "  .colab-df-quickchart-complete:disabled,\n",
              "  .colab-df-quickchart-complete:disabled:hover {\n",
              "    background-color: var(--disabled-bg-color);\n",
              "    fill: var(--disabled-fill-color);\n",
              "    box-shadow: none;\n",
              "  }\n",
              "\n",
              "  .colab-df-spinner {\n",
              "    border: 2px solid var(--fill-color);\n",
              "    border-color: transparent;\n",
              "    border-bottom-color: var(--fill-color);\n",
              "    animation:\n",
              "      spin 1s steps(1) infinite;\n",
              "  }\n",
              "\n",
              "  @keyframes spin {\n",
              "    0% {\n",
              "      border-color: transparent;\n",
              "      border-bottom-color: var(--fill-color);\n",
              "      border-left-color: var(--fill-color);\n",
              "    }\n",
              "    20% {\n",
              "      border-color: transparent;\n",
              "      border-left-color: var(--fill-color);\n",
              "      border-top-color: var(--fill-color);\n",
              "    }\n",
              "    30% {\n",
              "      border-color: transparent;\n",
              "      border-left-color: var(--fill-color);\n",
              "      border-top-color: var(--fill-color);\n",
              "      border-right-color: var(--fill-color);\n",
              "    }\n",
              "    40% {\n",
              "      border-color: transparent;\n",
              "      border-right-color: var(--fill-color);\n",
              "      border-top-color: var(--fill-color);\n",
              "    }\n",
              "    60% {\n",
              "      border-color: transparent;\n",
              "      border-right-color: var(--fill-color);\n",
              "    }\n",
              "    80% {\n",
              "      border-color: transparent;\n",
              "      border-right-color: var(--fill-color);\n",
              "      border-bottom-color: var(--fill-color);\n",
              "    }\n",
              "    90% {\n",
              "      border-color: transparent;\n",
              "      border-bottom-color: var(--fill-color);\n",
              "    }\n",
              "  }\n",
              "</style>\n",
              "\n",
              "  <script>\n",
              "    async function quickchart(key) {\n",
              "      const quickchartButtonEl =\n",
              "        document.querySelector('#' + key + ' button');\n",
              "      quickchartButtonEl.disabled = true;  // To prevent multiple clicks.\n",
              "      quickchartButtonEl.classList.add('colab-df-spinner');\n",
              "      try {\n",
              "        const charts = await google.colab.kernel.invokeFunction(\n",
              "            'suggestCharts', [key], {});\n",
              "      } catch (error) {\n",
              "        console.error('Error during call to suggestCharts:', error);\n",
              "      }\n",
              "      quickchartButtonEl.classList.remove('colab-df-spinner');\n",
              "      quickchartButtonEl.classList.add('colab-df-quickchart-complete');\n",
              "    }\n",
              "    (() => {\n",
              "      let quickchartButtonEl =\n",
              "        document.querySelector('#df-759cd22c-6a6c-4ce4-8a2a-8ba4a8d00ee9 button');\n",
              "      quickchartButtonEl.style.display =\n",
              "        google.colab.kernel.accessAllowed ? 'block' : 'none';\n",
              "    })();\n",
              "  </script>\n",
              "</div>\n",
              "    </div>\n",
              "  </div>\n"
            ]
          },
          "metadata": {},
          "execution_count": 2
        }
      ]
    },
    {
      "cell_type": "markdown",
      "source": [
        "# 2.0 Data Preparation"
      ],
      "metadata": {
        "id": "bGrA3aGdeFQV"
      }
    },
    {
      "cell_type": "markdown",
      "source": [
        "## 2.1 Transforming 'Sex' Feature"
      ],
      "metadata": {
        "id": "myhO8itZeI9X"
      }
    },
    {
      "cell_type": "code",
      "source": [
        "df['Sex'].replace({'Female':0, 'Male':1}, inplace=True)\n",
        "dropping_columns = ['sBP_Date', 'Patient_ID', 'BMI_Date', 'LDL_Date', 'HDL_Date', 'A1c_Date', 'TG_Date', 'FBS_Date', 'FBS>DM', 'Total_Cholesterol_Lab_Date', 'DM_OnsetDate', 'Depression_OnsetDate', 'HTN_OnsetDate', 'OA_OnsetDate', 'COPD_Date', 'Hypertension_Medications', 'Hypertension_Medications_First_Instance', 'Corticosteroids', 'Corticosteroids_first_instance', 'leastO(A1c_Date)', 'leastO(DM_OnsetDate)','leastO(FBS_Date)', 'LeastOfAll', 'A1C_BEF_DM', 'FBS_BEF_DM', 'DM_Onset_Revised','DM_Onset_Revised_1YrPrior','DIABETES']\n",
        "df = df.drop(columns=dropping_columns, axis=1)"
      ],
      "metadata": {
        "id": "xOw9Uwv5ern1"
      },
      "execution_count": null,
      "outputs": []
    },
    {
      "cell_type": "markdown",
      "source": [
        "## 2.2 Data Splitting"
      ],
      "metadata": {
        "id": "FUlmwWjBeua1"
      }
    },
    {
      "cell_type": "code",
      "source": [
        "train_df = df.sample(frac = .7, random_state=10)\n",
        "\n",
        "# Use the remaining 30% for testing\n",
        "test_df = df.drop(train_df.index)\n",
        "\n",
        "# Check the mean of the 'Diabetes' column in both training and testing data\n",
        "train_df['Diabetes'].mean() #0.518\n",
        "test_df['Diabetes'].mean() #0.504"
      ],
      "metadata": {
        "colab": {
          "base_uri": "https://localhost:8080/"
        },
        "id": "GNvV32MRewtx",
        "outputId": "d61a2d42-1e5c-4490-d296-3e1253bad2aa"
      },
      "execution_count": null,
      "outputs": [
        {
          "output_type": "execute_result",
          "data": {
            "text/plain": [
              "0.5043333333333333"
            ]
          },
          "metadata": {},
          "execution_count": 4
        }
      ]
    },
    {
      "cell_type": "markdown",
      "source": [
        "# 3.0 Logistic Regression Classifier Building"
      ],
      "metadata": {
        "id": "Mt8V6vPve1Je"
      }
    },
    {
      "cell_type": "markdown",
      "source": [
        "## 3.1 Median Imputation"
      ],
      "metadata": {
        "id": "bYPoYeiqfPL5"
      }
    },
    {
      "cell_type": "code",
      "source": [
        "df.isnull().sum()"
      ],
      "metadata": {
        "colab": {
          "base_uri": "https://localhost:8080/"
        },
        "id": "mwF2_teHIcGY",
        "outputId": "3f87d5db-32fd-4aad-ee7e-484a5ec37ab4"
      },
      "execution_count": null,
      "outputs": [
        {
          "output_type": "execute_result",
          "data": {
            "text/plain": [
              "Age_at_Exam            0\n",
              "sBP                    4\n",
              "BMI                    0\n",
              "LDL                   61\n",
              "HDL                   72\n",
              "A1c                    0\n",
              "TG                    53\n",
              "FBS                    0\n",
              "Total_Cholesterol    207\n",
              "Diabetes               0\n",
              "Depression             0\n",
              "HTN                    0\n",
              "OA                     0\n",
              "COPD                   0\n",
              "Sex                    0\n",
              "dtype: int64"
            ]
          },
          "metadata": {},
          "execution_count": 5
        }
      ]
    },
    {
      "cell_type": "code",
      "source": [
        "from sklearn.model_selection import train_test_split, KFold, cross_val_score\n",
        "from sklearn.linear_model import LogisticRegression\n",
        "from sklearn.preprocessing import StandardScaler\n",
        "from sklearn.impute import SimpleImputer\n",
        "from sklearn.metrics import accuracy_score\n",
        "import numpy as np\n",
        "\n",
        "# Specifying RFECV selected features  and target variable\n",
        "df_log = df[[\"BMI\", \"LDL\", \"A1c\", \"TG\", \"Depression\", \"Sex\",\"Diabetes\"]]\n",
        "X = df_log.drop(['Diabetes'], axis=1)\n",
        "y = df_log['Diabetes']\n",
        "\n",
        "# Split the data into training (70%) and a temporary set (30%)\n",
        "X_train, X_temp, y_train, y_temp = train_test_split(X, y, test_size=0.3, random_state=26)\n",
        "\n",
        "# Split the temporary set into testing (15%) and validation (15%)\n",
        "X_test, X_valid, y_test, y_valid = train_test_split(X_temp, y_temp, test_size=0.5, random_state=42)\n",
        "\n",
        "# Use SimpleImputer to compute the median of 'LDL' in the training set\n",
        "imputer = SimpleImputer(strategy='median')\n",
        "\n",
        "# Use this to fill the NaN values (for continuous features) in both training, validation, and test sets\n",
        "imputer.fit(X_train[[\"LDL\"]])\n",
        "X_train[\"LDL\"] = imputer.transform(X_train[['LDL']])\n",
        "X_test['LDL'] = imputer.transform(X_test[['LDL']])\n",
        "X_valid['LDL'] = imputer.transform(X_valid[['LDL']])\n",
        "\n",
        "imputer.fit(X_train[[\"TG\"]])\n",
        "X_train['TG'] = imputer.transform(X_train[['TG']])\n",
        "X_test['TG'] = imputer.transform(X_test[['TG']])\n",
        "X_valid['TG'] = imputer.transform(X_valid[['TG']])\n",
        "\n",
        "# Normalizing data\n",
        "scaler = StandardScaler()\n",
        "X_train_scaled = scaler.fit_transform(X_train)\n",
        "X_valid_scaled = scaler.transform(X_valid)\n",
        "X_test_scaled = scaler.transform(X_test)\n",
        "\n",
        "# Train a logistic regression model\n",
        "log_reg = LogisticRegression(penalty='l1', C=1.0, solver='liblinear')\n",
        "log_reg.fit(X_train_scaled, y_train)"
      ],
      "metadata": {
        "colab": {
          "base_uri": "https://localhost:8080/",
          "height": 75
        },
        "id": "ReIPgMhmfE-H",
        "outputId": "c8dbdcc5-65c2-4dfe-a17f-614cbe860a3a"
      },
      "execution_count": null,
      "outputs": [
        {
          "output_type": "execute_result",
          "data": {
            "text/plain": [
              "LogisticRegression(penalty='l1', solver='liblinear')"
            ],
            "text/html": [
              "<style>#sk-container-id-1 {color: black;background-color: white;}#sk-container-id-1 pre{padding: 0;}#sk-container-id-1 div.sk-toggleable {background-color: white;}#sk-container-id-1 label.sk-toggleable__label {cursor: pointer;display: block;width: 100%;margin-bottom: 0;padding: 0.3em;box-sizing: border-box;text-align: center;}#sk-container-id-1 label.sk-toggleable__label-arrow:before {content: \"▸\";float: left;margin-right: 0.25em;color: #696969;}#sk-container-id-1 label.sk-toggleable__label-arrow:hover:before {color: black;}#sk-container-id-1 div.sk-estimator:hover label.sk-toggleable__label-arrow:before {color: black;}#sk-container-id-1 div.sk-toggleable__content {max-height: 0;max-width: 0;overflow: hidden;text-align: left;background-color: #f0f8ff;}#sk-container-id-1 div.sk-toggleable__content pre {margin: 0.2em;color: black;border-radius: 0.25em;background-color: #f0f8ff;}#sk-container-id-1 input.sk-toggleable__control:checked~div.sk-toggleable__content {max-height: 200px;max-width: 100%;overflow: auto;}#sk-container-id-1 input.sk-toggleable__control:checked~label.sk-toggleable__label-arrow:before {content: \"▾\";}#sk-container-id-1 div.sk-estimator input.sk-toggleable__control:checked~label.sk-toggleable__label {background-color: #d4ebff;}#sk-container-id-1 div.sk-label input.sk-toggleable__control:checked~label.sk-toggleable__label {background-color: #d4ebff;}#sk-container-id-1 input.sk-hidden--visually {border: 0;clip: rect(1px 1px 1px 1px);clip: rect(1px, 1px, 1px, 1px);height: 1px;margin: -1px;overflow: hidden;padding: 0;position: absolute;width: 1px;}#sk-container-id-1 div.sk-estimator {font-family: monospace;background-color: #f0f8ff;border: 1px dotted black;border-radius: 0.25em;box-sizing: border-box;margin-bottom: 0.5em;}#sk-container-id-1 div.sk-estimator:hover {background-color: #d4ebff;}#sk-container-id-1 div.sk-parallel-item::after {content: \"\";width: 100%;border-bottom: 1px solid gray;flex-grow: 1;}#sk-container-id-1 div.sk-label:hover label.sk-toggleable__label {background-color: #d4ebff;}#sk-container-id-1 div.sk-serial::before {content: \"\";position: absolute;border-left: 1px solid gray;box-sizing: border-box;top: 0;bottom: 0;left: 50%;z-index: 0;}#sk-container-id-1 div.sk-serial {display: flex;flex-direction: column;align-items: center;background-color: white;padding-right: 0.2em;padding-left: 0.2em;position: relative;}#sk-container-id-1 div.sk-item {position: relative;z-index: 1;}#sk-container-id-1 div.sk-parallel {display: flex;align-items: stretch;justify-content: center;background-color: white;position: relative;}#sk-container-id-1 div.sk-item::before, #sk-container-id-1 div.sk-parallel-item::before {content: \"\";position: absolute;border-left: 1px solid gray;box-sizing: border-box;top: 0;bottom: 0;left: 50%;z-index: -1;}#sk-container-id-1 div.sk-parallel-item {display: flex;flex-direction: column;z-index: 1;position: relative;background-color: white;}#sk-container-id-1 div.sk-parallel-item:first-child::after {align-self: flex-end;width: 50%;}#sk-container-id-1 div.sk-parallel-item:last-child::after {align-self: flex-start;width: 50%;}#sk-container-id-1 div.sk-parallel-item:only-child::after {width: 0;}#sk-container-id-1 div.sk-dashed-wrapped {border: 1px dashed gray;margin: 0 0.4em 0.5em 0.4em;box-sizing: border-box;padding-bottom: 0.4em;background-color: white;}#sk-container-id-1 div.sk-label label {font-family: monospace;font-weight: bold;display: inline-block;line-height: 1.2em;}#sk-container-id-1 div.sk-label-container {text-align: center;}#sk-container-id-1 div.sk-container {/* jupyter's `normalize.less` sets `[hidden] { display: none; }` but bootstrap.min.css set `[hidden] { display: none !important; }` so we also need the `!important` here to be able to override the default hidden behavior on the sphinx rendered scikit-learn.org. See: https://github.com/scikit-learn/scikit-learn/issues/21755 */display: inline-block !important;position: relative;}#sk-container-id-1 div.sk-text-repr-fallback {display: none;}</style><div id=\"sk-container-id-1\" class=\"sk-top-container\"><div class=\"sk-text-repr-fallback\"><pre>LogisticRegression(penalty=&#x27;l1&#x27;, solver=&#x27;liblinear&#x27;)</pre><b>In a Jupyter environment, please rerun this cell to show the HTML representation or trust the notebook. <br />On GitHub, the HTML representation is unable to render, please try loading this page with nbviewer.org.</b></div><div class=\"sk-container\" hidden><div class=\"sk-item\"><div class=\"sk-estimator sk-toggleable\"><input class=\"sk-toggleable__control sk-hidden--visually\" id=\"sk-estimator-id-1\" type=\"checkbox\" checked><label for=\"sk-estimator-id-1\" class=\"sk-toggleable__label sk-toggleable__label-arrow\">LogisticRegression</label><div class=\"sk-toggleable__content\"><pre>LogisticRegression(penalty=&#x27;l1&#x27;, solver=&#x27;liblinear&#x27;)</pre></div></div></div></div></div>"
            ]
          },
          "metadata": {},
          "execution_count": 6
        }
      ]
    },
    {
      "cell_type": "markdown",
      "source": [
        "## 3.2 Performance of Validation Set"
      ],
      "metadata": {
        "id": "7sj1aCvTjN0I"
      }
    },
    {
      "cell_type": "code",
      "source": [
        "# Perform k-fold cross-validation on the validation set\n",
        "kfold = KFold(n_splits=5, shuffle=True, random_state=42)\n",
        "validation_scores = cross_val_score(log_reg, X_valid_scaled, y_valid, cv=kfold, scoring='accuracy')\n",
        "\n",
        "# Print cross-validation scores on the validation set\n",
        "print(\"Validation Set Cross-Validation Scores:\", validation_scores)\n",
        "\n",
        "# Plot the ROC curve for the validation set\n",
        "from sklearn.metrics import roc_curve, RocCurveDisplay, auc\n",
        "import matplotlib.pyplot as plt\n",
        "\n",
        "y_pred_valid = log_reg.predict_proba(X_valid_scaled)[:, 1]\n",
        "# Calculate the ROC curve\n",
        "fpr, tpr, thresholds = roc_curve(y_valid, log_reg.predict_proba(X_valid_scaled)[:, 1])\n",
        "\n",
        "# Display the ROC curve\n",
        "display = RocCurveDisplay(fpr=fpr, tpr=tpr, roc_auc=auc(fpr, tpr), estimator_name='Logistic Regression')\n",
        "display.plot()\n",
        "\n",
        "# Customize the plot\n",
        "ax = plt.gca()\n",
        "ax.get_lines()[0].set_color('#a3416c')\n",
        "plt.title('ROC Curve for Logistic Regression')\n",
        "plt.xlabel('False Positive Rate')\n",
        "plt.ylabel('True Positive Rate')\n",
        "plt.show()\n",
        "\n",
        "test_accuracy = log_reg.score(X_valid_scaled, y_valid)\n",
        "print(\"Test Set Accuracy:\", test_accuracy)"
      ],
      "metadata": {
        "colab": {
          "base_uri": "https://localhost:8080/",
          "height": 507
        },
        "id": "q2PuhTxNgWo6",
        "outputId": "72fd582f-8f3e-4503-9479-5363f9ee9de0"
      },
      "execution_count": null,
      "outputs": [
        {
          "output_type": "stream",
          "name": "stdout",
          "text": [
            "Validation Set Cross-Validation Scores: [0.81       0.82333333 0.85       0.82666667 0.83      ]\n"
          ]
        },
        {
          "output_type": "display_data",
          "data": {
            "text/plain": [
              "<Figure size 640x480 with 1 Axes>"
            ],
            "image/png": "[encoded data removed]"
          },
          "metadata": {}
        },
        {
          "output_type": "stream",
          "name": "stdout",
          "text": [
            "Test Set Accuracy: 0.8286666666666667\n"
          ]
        }
      ]
    },
    {
      "cell_type": "code",
      "source": [
        "# Use the model to make predictions on the testing data\n",
        "y_pred = log_reg.predict(X_test_scaled)\n",
        "\n",
        "# Evaluate the model\n",
        "conf_matrix = confusion_matrix(y_test, y_pred)\n",
        "class_report = classification_report(y_test, y_pred)\n",
        "\n",
        "print(\"Confusion Matrix:\")\n",
        "print(conf_matrix)\n",
        "print(\"\\nClassification Report:\")\n",
        "print(class_report)"
      ],
      "metadata": {
        "colab": {
          "base_uri": "https://localhost:8080/"
        },
        "id": "PT4sbTgti1cp",
        "outputId": "4db31cec-4254-4c5f-ab71-9fbfd9242fc6"
      },
      "execution_count": null,
      "outputs": [
        {
          "output_type": "stream",
          "name": "stdout",
          "text": [
            "Confusion Matrix:\n",
            "[[626  99]\n",
            " [148 627]]\n",
            "\n",
            "Classification Report:\n",
            "              precision    recall  f1-score   support\n",
            "\n",
            "           0       0.81      0.86      0.84       725\n",
            "           1       0.86      0.81      0.84       775\n",
            "\n",
            "    accuracy                           0.84      1500\n",
            "   macro avg       0.84      0.84      0.84      1500\n",
            "weighted avg       0.84      0.84      0.84      1500\n",
            "\n"
          ]
        }
      ]
    },
    {
      "cell_type": "code",
      "source": [
        "sns.heatmap(conf_matrix, annot=True, fmt='d')\n",
        "plt.ylabel('Actual')\n",
        "plt.xlabel('Predicted')\n",
        "plt.show()"
      ],
      "metadata": {
        "colab": {
          "base_uri": "https://localhost:8080/",
          "height": 449
        },
        "id": "Wcx0etyki_uz",
        "outputId": "c86f7b21-039b-4b07-92e1-1d3c5503975c"
      },
      "execution_count": null,
      "outputs": [
        {
          "output_type": "display_data",
          "data": {
            "text/plain": [
              "<Figure size 640x480 with 2 Axes>"
            ],
            "image/png": "[encoded data removed]"
          },
          "metadata": {}
        }
      ]
    },
    {
      "cell_type": "markdown",
      "source": [
        "## 3.3 Inferential Logistic Regression Model"
      ],
      "metadata": {
        "id": "cCWcZeEBjFdk"
      }
    },
    {
      "cell_type": "code",
      "source": [
        "import statsmodels.api as sm\n",
        "import pandas as pd\n",
        "\n",
        "# Separate features and target variable\n",
        "\n",
        "df_log2 = df[[\"BMI\", \"LDL\", \"A1c\", \"TG\", \"Depression\", \"Sex\",\"Diabetes\"]]\n",
        "X = df_log2.drop(['Diabetes'], axis=1)\n",
        "y = df_log2['Diabetes']\n",
        "\n",
        "# Add a constant term for the intercept\n",
        "X = sm.add_constant(X)\n",
        "\n",
        "# Impute with median\n",
        "imputer = SimpleImputer(strategy='median')\n",
        "\n",
        "imputer.fit(X[[\"LDL\"]])\n",
        "X[\"LDL\"] = imputer.transform(X[['LDL']])\n",
        "\n",
        "imputer.fit(X[[\"TG\"]])\n",
        "X[\"TG\"] = imputer.transform(X[['TG']])\n",
        "\n",
        "# Create and fit logistic regression model\n",
        "log_reg1 = sm.Logit(y, X).fit()\n",
        "\n",
        "# Coefficients and their standard errors\n",
        "coefficients = log_reg1.params\n",
        "standard_errors = log_reg1.bse\n",
        "\n",
        "# Calculate odds ratios\n",
        "odds_ratios = np.exp(coefficients)\n",
        "\n",
        "# Calculate 95% CI for odds ratios\n",
        "lower_bound = np.exp(coefficients - 1.96 * standard_errors)\n",
        "upper_bound = np.exp(coefficients + 1.96 * standard_errors)\n",
        "\n",
        "# Print results\n",
        "for idx, coef in enumerate(log_reg1.params.index):\n",
        "    print(f\"For {coef}: Odds Ratio: {odds_ratios[idx]:.4f}, 95% CI: ({lower_bound[idx]:.4f}, {upper_bound[idx]:.4f})\")\n",
        "\n",
        "# Get summary report\n",
        "summary = log_reg1.summary()\n",
        "print(summary)"
      ],
      "metadata": {
        "colab": {
          "base_uri": "https://localhost:8080/"
        },
        "id": "QKdHJW1WjEPI",
        "outputId": "c4460b00-b27f-4f8e-950b-cba088c8588a"
      },
      "execution_count": null,
      "outputs": [
        {
          "output_type": "stream",
          "name": "stdout",
          "text": [
            "Optimization terminated successfully.\n",
            "         Current function value: 0.373821\n",
            "         Iterations 8\n",
            "For const: Odds Ratio: 0.0000, 95% CI: (0.0000, 0.0000)\n",
            "For BMI: Odds Ratio: 1.0253, 95% CI: (1.0166, 1.0342)\n",
            "For LDL: Odds Ratio: 0.5602, 95% CI: (0.5250, 0.5978)\n",
            "For A1c: Odds Ratio: 37.2289, 95% CI: (31.8765, 43.4801)\n",
            "For TG: Odds Ratio: 1.1538, 95% CI: (1.0876, 1.2239)\n",
            "For Depression: Odds Ratio: 1.0859, 95% CI: (0.9453, 1.2475)\n",
            "For Sex: Odds Ratio: 1.3016, 95% CI: (1.1594, 1.4611)\n",
            "                           Logit Regression Results                           \n",
            "==============================================================================\n",
            "Dep. Variable:               Diabetes   No. Observations:                10000\n",
            "Model:                          Logit   Df Residuals:                     9993\n",
            "Method:                           MLE   Df Model:                            6\n",
            "Date:                Tue, 05 Dec 2023   Pseudo R-squ.:                  0.4604\n",
            "Time:                        02:48:38   Log-Likelihood:                -3738.2\n",
            "converged:                       True   LL-Null:                       -6927.6\n",
            "Covariance Type:            nonrobust   LLR p-value:                     0.000\n",
            "==============================================================================\n",
            "                 coef    std err          z      P>|z|      [0.025      0.975]\n",
            "------------------------------------------------------------------------------\n",
            "const        -21.6028      0.497    -43.479      0.000     -22.577     -20.629\n",
            "BMI            0.0250      0.004      5.734      0.000       0.016       0.034\n",
            "LDL           -0.5794      0.033    -17.496      0.000      -0.644      -0.514\n",
            "A1c            3.6171      0.079     45.675      0.000       3.462       3.772\n",
            "TG             0.1430      0.030      4.749      0.000       0.084       0.202\n",
            "Depression     0.0824      0.071      1.165      0.244      -0.056       0.221\n",
            "Sex            0.2636      0.059      4.467      0.000       0.148       0.379\n",
            "==============================================================================\n"
          ]
        }
      ]
    }
  ]
}