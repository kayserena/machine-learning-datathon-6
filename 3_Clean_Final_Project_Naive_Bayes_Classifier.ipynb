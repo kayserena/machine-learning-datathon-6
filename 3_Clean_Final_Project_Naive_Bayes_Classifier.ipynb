{
  "nbformat": 4,
  "nbformat_minor": 0,
  "metadata": {
    "colab": {
      "provenance": [],
      "toc_visible": true,
      "include_colab_link": true
    },
    "kernelspec": {
      "name": "python3",
      "display_name": "Python 3"
    },
    "language_info": {
      "name": "python"
    }
  },
  "cells": [
    {
      "cell_type": "markdown",
      "metadata": {
        "id": "view-in-github",
        "colab_type": "text"
      },
      "source": [
        "<a href=\"https://colab.research.google.com/github/kayserena/machine-learning-datathon-6/blob/main/3_Clean_Final_Project_Naive_Bayes_Classifier.ipynb\" target=\"_parent\"><img src=\"https://colab.research.google.com/assets/colab-badge.svg\" alt=\"Open In Colab\"/></a>"
      ]
    },
    {
      "cell_type": "markdown",
      "source": [
        "**NOTE: The features used in this model were validated in the EDA + Neural Network codebook using the RFECV feature selection method; as show in GitHub**"
      ],
      "metadata": {
        "id": "nbbBBq9FGZwI"
      }
    },
    {
      "cell_type": "markdown",
      "source": [
        "# 1.0 Loading Libraries and Data"
      ],
      "metadata": {
        "id": "frPpih_hlxS_"
      }
    },
    {
      "cell_type": "code",
      "execution_count": 1,
      "metadata": {
        "id": "cFEKm0Malk7e"
      },
      "outputs": [],
      "source": [
        "import pandas as pd\n",
        "from sklearn import datasets\n",
        "from sklearn.metrics import accuracy_score\n",
        "import matplotlib.pyplot as plt\n",
        "from sklearn.model_selection import train_test_split\n",
        "from sklearn.preprocessing import StandardScaler, LabelEncoder\n",
        "from sklearn.neighbors import KNeighborsClassifier\n",
        "from sklearn.metrics import classification_report, confusion_matrix\n",
        "from sklearn.metrics import precision_score, accuracy_score, recall_score, f1_score, roc_auc_score\n",
        "import seaborn as sns\n",
        "import numpy as np\n",
        "from sklearn.feature_selection import RFECV\n",
        "from sklearn.linear_model import LogisticRegression\n",
        "from sklearn.model_selection import StratifiedKFold\n",
        "import random\n",
        "# !pip install missingno\n",
        "import missingno as msno\n",
        "from sklearn.impute import SimpleImputer\n",
        "import matplotlib.pyplot as plt\n",
        "import statsmodels.api as sm\n",
        "from sklearn.preprocessing import StandardScaler\n",
        "from sklearn.feature_selection import RFECV\n",
        "from sklearn.linear_model import LogisticRegression\n",
        "from sklearn.model_selection import StratifiedKFold"
      ]
    },
    {
      "cell_type": "code",
      "source": [
        "df = pd.read_excel('Diabetes Study File 10K Dec 14 2017.xlsx')\n",
        "df.head()"
      ],
      "metadata": {
        "colab": {
          "base_uri": "https://localhost:8080/",
          "height": 342
        },
        "id": "ehK58W5emWQG",
        "outputId": "a2ebb215-6db4-485d-cef1-3e4b1e321fb2"
      },
      "execution_count": 3,
      "outputs": [
        {
          "output_type": "execute_result",
          "data": {
            "text/plain": [
              "   Age_at_Exam    sBP   sBP_Date        BMI   BMI_Date   LDL   LDL_Date   HDL  \\\n",
              "0           65  126.0 2013-06-11  31.000000 2013-06-11  1.66 2013-06-14  1.11   \n",
              "1           62  135.0 2014-06-19  25.846483 2014-10-17  2.49 2014-05-28  1.37   \n",
              "2           63  133.0 2012-07-31  30.900000 2011-12-01  1.65 2012-06-01   NaN   \n",
              "3           51  136.0 2014-01-06  56.710775 2014-01-06  2.80 2014-01-14  1.94   \n",
              "4           40  123.0 2015-06-12  33.067867 2015-06-12  2.48 2015-06-24  1.17   \n",
              "\n",
              "    HDL_Date  A1c  ... leastO(A1c_Date)  leastO(DM_OnsetDate)  \\\n",
              "0 2013-06-14  5.4  ...              NaN                   NaN   \n",
              "1 2014-05-28  5.8  ...              NaN                   NaN   \n",
              "2        NaT  6.1  ...              NaN                   NaN   \n",
              "3 2014-01-14  6.0  ...              NaN                   NaN   \n",
              "4 2015-06-24  5.8  ...              NaN                   NaN   \n",
              "\n",
              "  leastO(FBS_Date)  LeastOfAll A1C_BEF_DM  FBS_BEF_DM        Patient_ID  \\\n",
              "0              NaN         NaN        NaN         NaN  4001000000255903   \n",
              "1              NaN         NaN        NaN         NaN  4001000000256456   \n",
              "2              NaN         NaN        NaN         NaN  1001000000000054   \n",
              "3              NaN         NaN        NaN         NaN  4001000000259496   \n",
              "4              NaN         NaN        NaN         NaN  4001000000262094   \n",
              "\n",
              "  DM_Onset_Revised  DM_Onset_Revised_1YrPrior DIABETES  \n",
              "0              NaT                        NaT       No  \n",
              "1              NaT                        NaT       No  \n",
              "2              NaT                        NaT       No  \n",
              "3              NaT                        NaT       No  \n",
              "4              NaT                        NaT       No  \n",
              "\n",
              "[5 rows x 43 columns]"
            ],
            "text/html": [
              "\n",
              "  <div id=\"df-294eaa1d-a0cb-48b2-9212-0e273afff366\" class=\"colab-df-container\">\n",
              "    <div>\n",
              "<style scoped>\n",
              "    .dataframe tbody tr th:only-of-type {\n",
              "        vertical-align: middle;\n",
              "    }\n",
              "\n",
              "    .dataframe tbody tr th {\n",
              "        vertical-align: top;\n",
              "    }\n",
              "\n",
              "    .dataframe thead th {\n",
              "        text-align: right;\n",
              "    }\n",
              "</style>\n",
              "<table border=\"1\" class=\"dataframe\">\n",
              "  <thead>\n",
              "    <tr style=\"text-align: right;\">\n",
              "      <th></th>\n",
              "      <th>Age_at_Exam</th>\n",
              "      <th>sBP</th>\n",
              "      <th>sBP_Date</th>\n",
              "      <th>BMI</th>\n",
              "      <th>BMI_Date</th>\n",
              "      <th>LDL</th>\n",
              "      <th>LDL_Date</th>\n",
              "      <th>HDL</th>\n",
              "      <th>HDL_Date</th>\n",
              "      <th>A1c</th>\n",
              "      <th>...</th>\n",
              "      <th>leastO(A1c_Date)</th>\n",
              "      <th>leastO(DM_OnsetDate)</th>\n",
              "      <th>leastO(FBS_Date)</th>\n",
              "      <th>LeastOfAll</th>\n",
              "      <th>A1C_BEF_DM</th>\n",
              "      <th>FBS_BEF_DM</th>\n",
              "      <th>Patient_ID</th>\n",
              "      <th>DM_Onset_Revised</th>\n",
              "      <th>DM_Onset_Revised_1YrPrior</th>\n",
              "      <th>DIABETES</th>\n",
              "    </tr>\n",
              "  </thead>\n",
              "  <tbody>\n",
              "    <tr>\n",
              "      <th>0</th>\n",
              "      <td>65</td>\n",
              "      <td>126.0</td>\n",
              "      <td>2013-06-11</td>\n",
              "      <td>31.000000</td>\n",
              "      <td>2013-06-11</td>\n",
              "      <td>1.66</td>\n",
              "      <td>2013-06-14</td>\n",
              "      <td>1.11</td>\n",
              "      <td>2013-06-14</td>\n",
              "      <td>5.4</td>\n",
              "      <td>...</td>\n",
              "      <td>NaN</td>\n",
              "      <td>NaN</td>\n",
              "      <td>NaN</td>\n",
              "      <td>NaN</td>\n",
              "      <td>NaN</td>\n",
              "      <td>NaN</td>\n",
              "      <td>4001000000255903</td>\n",
              "      <td>NaT</td>\n",
              "      <td>NaT</td>\n",
              "      <td>No</td>\n",
              "    </tr>\n",
              "    <tr>\n",
              "      <th>1</th>\n",
              "      <td>62</td>\n",
              "      <td>135.0</td>\n",
              "      <td>2014-06-19</td>\n",
              "      <td>25.846483</td>\n",
              "      <td>2014-10-17</td>\n",
              "      <td>2.49</td>\n",
              "      <td>2014-05-28</td>\n",
              "      <td>1.37</td>\n",
              "      <td>2014-05-28</td>\n",
              "      <td>5.8</td>\n",
              "      <td>...</td>\n",
              "      <td>NaN</td>\n",
              "      <td>NaN</td>\n",
              "      <td>NaN</td>\n",
              "      <td>NaN</td>\n",
              "      <td>NaN</td>\n",
              "      <td>NaN</td>\n",
              "      <td>4001000000256456</td>\n",
              "      <td>NaT</td>\n",
              "      <td>NaT</td>\n",
              "      <td>No</td>\n",
              "    </tr>\n",
              "    <tr>\n",
              "      <th>2</th>\n",
              "      <td>63</td>\n",
              "      <td>133.0</td>\n",
              "      <td>2012-07-31</td>\n",
              "      <td>30.900000</td>\n",
              "      <td>2011-12-01</td>\n",
              "      <td>1.65</td>\n",
              "      <td>2012-06-01</td>\n",
              "      <td>NaN</td>\n",
              "      <td>NaT</td>\n",
              "      <td>6.1</td>\n",
              "      <td>...</td>\n",
              "      <td>NaN</td>\n",
              "      <td>NaN</td>\n",
              "      <td>NaN</td>\n",
              "      <td>NaN</td>\n",
              "      <td>NaN</td>\n",
              "      <td>NaN</td>\n",
              "      <td>1001000000000054</td>\n",
              "      <td>NaT</td>\n",
              "      <td>NaT</td>\n",
              "      <td>No</td>\n",
              "    </tr>\n",
              "    <tr>\n",
              "      <th>3</th>\n",
              "      <td>51</td>\n",
              "      <td>136.0</td>\n",
              "      <td>2014-01-06</td>\n",
              "      <td>56.710775</td>\n",
              "      <td>2014-01-06</td>\n",
              "      <td>2.80</td>\n",
              "      <td>2014-01-14</td>\n",
              "      <td>1.94</td>\n",
              "      <td>2014-01-14</td>\n",
              "      <td>6.0</td>\n",
              "      <td>...</td>\n",
              "      <td>NaN</td>\n",
              "      <td>NaN</td>\n",
              "      <td>NaN</td>\n",
              "      <td>NaN</td>\n",
              "      <td>NaN</td>\n",
              "      <td>NaN</td>\n",
              "      <td>4001000000259496</td>\n",
              "      <td>NaT</td>\n",
              "      <td>NaT</td>\n",
              "      <td>No</td>\n",
              "    </tr>\n",
              "    <tr>\n",
              "      <th>4</th>\n",
              "      <td>40</td>\n",
              "      <td>123.0</td>\n",
              "      <td>2015-06-12</td>\n",
              "      <td>33.067867</td>\n",
              "      <td>2015-06-12</td>\n",
              "      <td>2.48</td>\n",
              "      <td>2015-06-24</td>\n",
              "      <td>1.17</td>\n",
              "      <td>2015-06-24</td>\n",
              "      <td>5.8</td>\n",
              "      <td>...</td>\n",
              "      <td>NaN</td>\n",
              "      <td>NaN</td>\n",
              "      <td>NaN</td>\n",
              "      <td>NaN</td>\n",
              "      <td>NaN</td>\n",
              "      <td>NaN</td>\n",
              "      <td>4001000000262094</td>\n",
              "      <td>NaT</td>\n",
              "      <td>NaT</td>\n",
              "      <td>No</td>\n",
              "    </tr>\n",
              "  </tbody>\n",
              "</table>\n",
              "<p>5 rows × 43 columns</p>\n",
              "</div>\n",
              "    <div class=\"colab-df-buttons\">\n",
              "\n",
              "  <div class=\"colab-df-container\">\n",
              "    <button class=\"colab-df-convert\" onclick=\"convertToInteractive('df-294eaa1d-a0cb-48b2-9212-0e273afff366')\"\n",
              "            title=\"Convert this dataframe to an interactive table.\"\n",
              "            style=\"display:none;\">\n",
              "\n",
              "  <svg xmlns=\"http://www.w3.org/2000/svg\" height=\"24px\" viewBox=\"0 -960 960 960\">\n",
              "    <path d=\"M120-120v-720h720v720H120Zm60-500h600v-160H180v160Zm220 220h160v-160H400v160Zm0 220h160v-160H400v160ZM180-400h160v-160H180v160Zm440 0h160v-160H620v160ZM180-180h160v-160H180v160Zm440 0h160v-160H620v160Z\"/>\n",
              "  </svg>\n",
              "    </button>\n",
              "\n",
              "  <style>\n",
              "    .colab-df-container {\n",
              "      display:flex;\n",
              "      gap: 12px;\n",
              "    }\n",
              "\n",
              "    .colab-df-convert {\n",
              "      background-color: #E8F0FE;\n",
              "      border: none;\n",
              "      border-radius: 50%;\n",
              "      cursor: pointer;\n",
              "      display: none;\n",
              "      fill: #1967D2;\n",
              "      height: 32px;\n",
              "      padding: 0 0 0 0;\n",
              "      width: 32px;\n",
              "    }\n",
              "\n",
              "    .colab-df-convert:hover {\n",
              "      background-color: #E2EBFA;\n",
              "      box-shadow: 0px 1px 2px rgba(60, 64, 67, 0.3), 0px 1px 3px 1px rgba(60, 64, 67, 0.15);\n",
              "      fill: #174EA6;\n",
              "    }\n",
              "\n",
              "    .colab-df-buttons div {\n",
              "      margin-bottom: 4px;\n",
              "    }\n",
              "\n",
              "    [theme=dark] .colab-df-convert {\n",
              "      background-color: #3B4455;\n",
              "      fill: #D2E3FC;\n",
              "    }\n",
              "\n",
              "    [theme=dark] .colab-df-convert:hover {\n",
              "      background-color: #434B5C;\n",
              "      box-shadow: 0px 1px 3px 1px rgba(0, 0, 0, 0.15);\n",
              "      filter: drop-shadow(0px 1px 2px rgba(0, 0, 0, 0.3));\n",
              "      fill: #FFFFFF;\n",
              "    }\n",
              "  </style>\n",
              "\n",
              "    <script>\n",
              "      const buttonEl =\n",
              "        document.querySelector('#df-294eaa1d-a0cb-48b2-9212-0e273afff366 button.colab-df-convert');\n",
              "      buttonEl.style.display =\n",
              "        google.colab.kernel.accessAllowed ? 'block' : 'none';\n",
              "\n",
              "      async function convertToInteractive(key) {\n",
              "        const element = document.querySelector('#df-294eaa1d-a0cb-48b2-9212-0e273afff366');\n",
              "        const dataTable =\n",
              "          await google.colab.kernel.invokeFunction('convertToInteractive',\n",
              "                                                    [key], {});\n",
              "        if (!dataTable) return;\n",
              "\n",
              "        const docLinkHtml = 'Like what you see? Visit the ' +\n",
              "          '<a target=\"_blank\" href=https://colab.research.google.com/notebooks/data_table.ipynb>data table notebook</a>'\n",
              "          + ' to learn more about interactive tables.';\n",
              "        element.innerHTML = '';\n",
              "        dataTable['output_type'] = 'display_data';\n",
              "        await google.colab.output.renderOutput(dataTable, element);\n",
              "        const docLink = document.createElement('div');\n",
              "        docLink.innerHTML = docLinkHtml;\n",
              "        element.appendChild(docLink);\n",
              "      }\n",
              "    </script>\n",
              "  </div>\n",
              "\n",
              "\n",
              "<div id=\"df-5cae8ac6-6e64-4e5b-b7a0-705a002d4b4f\">\n",
              "  <button class=\"colab-df-quickchart\" onclick=\"quickchart('df-5cae8ac6-6e64-4e5b-b7a0-705a002d4b4f')\"\n",
              "            title=\"Suggest charts\"\n",
              "            style=\"display:none;\">\n",
              "\n",
              "<svg xmlns=\"http://www.w3.org/2000/svg\" height=\"24px\"viewBox=\"0 0 24 24\"\n",
              "     width=\"24px\">\n",
              "    <g>\n",
              "        <path d=\"M19 3H5c-1.1 0-2 .9-2 2v14c0 1.1.9 2 2 2h14c1.1 0 2-.9 2-2V5c0-1.1-.9-2-2-2zM9 17H7v-7h2v7zm4 0h-2V7h2v10zm4 0h-2v-4h2v4z\"/>\n",
              "    </g>\n",
              "</svg>\n",
              "  </button>\n",
              "\n",
              "<style>\n",
              "  .colab-df-quickchart {\n",
              "      --bg-color: #E8F0FE;\n",
              "      --fill-color: #1967D2;\n",
              "      --hover-bg-color: #E2EBFA;\n",
              "      --hover-fill-color: #174EA6;\n",
              "      --disabled-fill-color: #AAA;\n",
              "      --disabled-bg-color: #DDD;\n",
              "  }\n",
              "\n",
              "  [theme=dark] .colab-df-quickchart {\n",
              "      --bg-color: #3B4455;\n",
              "      --fill-color: #D2E3FC;\n",
              "      --hover-bg-color: #434B5C;\n",
              "      --hover-fill-color: #FFFFFF;\n",
              "      --disabled-bg-color: #3B4455;\n",
              "      --disabled-fill-color: #666;\n",
              "  }\n",
              "\n",
              "  .colab-df-quickchart {\n",
              "    background-color: var(--bg-color);\n",
              "    border: none;\n",
              "    border-radius: 50%;\n",
              "    cursor: pointer;\n",
              "    display: none;\n",
              "    fill: var(--fill-color);\n",
              "    height: 32px;\n",
              "    padding: 0;\n",
              "    width: 32px;\n",
              "  }\n",
              "\n",
              "  .colab-df-quickchart:hover {\n",
              "    background-color: var(--hover-bg-color);\n",
              "    box-shadow: 0 1px 2px rgba(60, 64, 67, 0.3), 0 1px 3px 1px rgba(60, 64, 67, 0.15);\n",
              "    fill: var(--button-hover-fill-color);\n",
              "  }\n",
              "\n",
              "  .colab-df-quickchart-complete:disabled,\n",
              "  .colab-df-quickchart-complete:disabled:hover {\n",
              "    background-color: var(--disabled-bg-color);\n",
              "    fill: var(--disabled-fill-color);\n",
              "    box-shadow: none;\n",
              "  }\n",
              "\n",
              "  .colab-df-spinner {\n",
              "    border: 2px solid var(--fill-color);\n",
              "    border-color: transparent;\n",
              "    border-bottom-color: var(--fill-color);\n",
              "    animation:\n",
              "      spin 1s steps(1) infinite;\n",
              "  }\n",
              "\n",
              "  @keyframes spin {\n",
              "    0% {\n",
              "      border-color: transparent;\n",
              "      border-bottom-color: var(--fill-color);\n",
              "      border-left-color: var(--fill-color);\n",
              "    }\n",
              "    20% {\n",
              "      border-color: transparent;\n",
              "      border-left-color: var(--fill-color);\n",
              "      border-top-color: var(--fill-color);\n",
              "    }\n",
              "    30% {\n",
              "      border-color: transparent;\n",
              "      border-left-color: var(--fill-color);\n",
              "      border-top-color: var(--fill-color);\n",
              "      border-right-color: var(--fill-color);\n",
              "    }\n",
              "    40% {\n",
              "      border-color: transparent;\n",
              "      border-right-color: var(--fill-color);\n",
              "      border-top-color: var(--fill-color);\n",
              "    }\n",
              "    60% {\n",
              "      border-color: transparent;\n",
              "      border-right-color: var(--fill-color);\n",
              "    }\n",
              "    80% {\n",
              "      border-color: transparent;\n",
              "      border-right-color: var(--fill-color);\n",
              "      border-bottom-color: var(--fill-color);\n",
              "    }\n",
              "    90% {\n",
              "      border-color: transparent;\n",
              "      border-bottom-color: var(--fill-color);\n",
              "    }\n",
              "  }\n",
              "</style>\n",
              "\n",
              "  <script>\n",
              "    async function quickchart(key) {\n",
              "      const quickchartButtonEl =\n",
              "        document.querySelector('#' + key + ' button');\n",
              "      quickchartButtonEl.disabled = true;  // To prevent multiple clicks.\n",
              "      quickchartButtonEl.classList.add('colab-df-spinner');\n",
              "      try {\n",
              "        const charts = await google.colab.kernel.invokeFunction(\n",
              "            'suggestCharts', [key], {});\n",
              "      } catch (error) {\n",
              "        console.error('Error during call to suggestCharts:', error);\n",
              "      }\n",
              "      quickchartButtonEl.classList.remove('colab-df-spinner');\n",
              "      quickchartButtonEl.classList.add('colab-df-quickchart-complete');\n",
              "    }\n",
              "    (() => {\n",
              "      let quickchartButtonEl =\n",
              "        document.querySelector('#df-5cae8ac6-6e64-4e5b-b7a0-705a002d4b4f button');\n",
              "      quickchartButtonEl.style.display =\n",
              "        google.colab.kernel.accessAllowed ? 'block' : 'none';\n",
              "    })();\n",
              "  </script>\n",
              "</div>\n",
              "    </div>\n",
              "  </div>\n"
            ]
          },
          "metadata": {},
          "execution_count": 3
        }
      ]
    },
    {
      "cell_type": "markdown",
      "source": [
        "# 2.0 Data Preparation"
      ],
      "metadata": {
        "id": "pm2zI1zKnoYb"
      }
    },
    {
      "cell_type": "markdown",
      "source": [
        "## 2.1 Transforming 'Sex' Feature"
      ],
      "metadata": {
        "id": "gGr2FY7Q6kbg"
      }
    },
    {
      "cell_type": "code",
      "source": [
        "df['Sex'].replace({'Female':0, 'Male':1}, inplace=True)"
      ],
      "metadata": {
        "id": "Ic9P1fA052vC"
      },
      "execution_count": 4,
      "outputs": []
    },
    {
      "cell_type": "markdown",
      "source": [
        "## 2.2 Data Splitting"
      ],
      "metadata": {
        "id": "l1u79Ud_6oTJ"
      }
    },
    {
      "cell_type": "code",
      "source": [
        "# Splitting the original dataset into training, validation, and test sets\n",
        "\n",
        "# Taking 70% of the data for training\n",
        "train_df = df.sample(frac = 0.7)\n",
        "\n",
        "# Removing the training data from the original dataset to get the combined validation and test data\n",
        "test_df = df.drop(train_df.index)\n",
        "\n",
        "# Splitting the combined validation and test data into two equal parts for validation and testing, respectively\n",
        "valid_df = test_df.sample(frac = 0.5)\n",
        "test_df = test_df.drop(valid_df.index)\n",
        "\n",
        "# Use SimpleImputer to compute the median of 'LDL' in the training set\n",
        "imputer = SimpleImputer(strategy='median')\n",
        "## By filling missing values with the median, we are using a central value that is less sensitive to\n",
        "#outliers compared to the mean. This is a common strategy for imputing missing numerical data because\n",
        "#it can help preserve the overall distribution of the data.\n",
        "\n",
        "# Use this mean to fill the NaN values in both training, validation, and test sets\n",
        "imputer.fit(train_df[[\"LDL\"]])\n",
        "train_df[\"LDL\"] = imputer.transform(train_df[['LDL']])\n",
        "valid_df[\"LDL\"] = imputer.transform(valid_df[['LDL']])\n",
        "test_df['LDL'] = imputer.transform(test_df[['LDL']])\n",
        "\n",
        "imputer.fit(train_df[[\"TG\"]])\n",
        "train_df[\"TG\"] = imputer.transform(train_df[['TG']])\n",
        "valid_df[\"TG\"] = imputer.transform(valid_df[['TG']])\n",
        "test_df['TG'] = imputer.transform(test_df[['TG']])"
      ],
      "metadata": {
        "id": "04kY2XIVnjwU"
      },
      "execution_count": 8,
      "outputs": []
    },
    {
      "cell_type": "markdown",
      "source": [
        "# 3.0 Gaussian Naive Bayes Classifier Building"
      ],
      "metadata": {
        "id": "vPA5w6xbop17"
      }
    },
    {
      "cell_type": "markdown",
      "source": [
        "## 3.1 Definining utility functions for model evaluation"
      ],
      "metadata": {
        "id": "ZSt-V-wSpChq"
      }
    },
    {
      "cell_type": "code",
      "source": [
        "def get_scores(Y, Y_pred):\n",
        "    \"\"\"\n",
        "    Computes various evaluation metrics for model predictions.\n",
        "\n",
        "    Parameters:\n",
        "    - Y: Actual target values.\n",
        "    - Y_pred: Predicted target values by the model.\n",
        "\n",
        "    Returns:\n",
        "    - conf_matrix: Confusion matrix showing true positives, true negatives, false positives, and false negatives.\n",
        "    - class_report: Classification report detailing precision, recall, and F1-score for each class.\n",
        "    - auc: Area Under the Curve (AUC) value for the model's predictions.\n",
        "    - acc: Accuracy of the model's predictions.\n",
        "    \"\"\"\n",
        "    conf_matrix = confusion_matrix(Y, Y_pred)\n",
        "    class_report = classification_report(Y, Y_pred)\n",
        "    auc = roc_auc_score(Y, Y_pred)\n",
        "    acc = accuracy_score(Y, Y_pred)\n",
        "\n",
        "    return conf_matrix, class_report, auc, acc\n",
        "\n",
        "def print_scores(conf_matrix, class_report, auc, acc):\n",
        "    \"\"\"\n",
        "    Prints the evaluation metrics in a structured format.\n",
        "\n",
        "    Parameters:\n",
        "    - conf_matrix: Confusion matrix from get_scores function.\n",
        "    - class_report: Classification report from get_scores function.\n",
        "    - auc: AUC value from get_scores function.\n",
        "    - acc: Accuracy value from get_scores function.\n",
        "    \"\"\"\n",
        "    print('AUC : ', auc)\n",
        "    print('Accuracy : ', acc)\n",
        "    print(\"Confusion Matrix:\")\n",
        "    print(conf_matrix)\n",
        "    print(\"\\nClassification Report:\")\n",
        "    print(class_report)"
      ],
      "metadata": {
        "id": "3Jqi5Hfno8Zl"
      },
      "execution_count": 9,
      "outputs": []
    },
    {
      "cell_type": "markdown",
      "source": [
        "## 3.2 Evaluating Gausssian Naive Bayes Model on Training Data"
      ],
      "metadata": {
        "id": "v7d4KIXXplpM"
      }
    },
    {
      "cell_type": "code",
      "source": [
        "from sklearn.naive_bayes import GaussianNB\n",
        "from sklearn.naive_bayes import BernoulliNB\n",
        "from sklearn.model_selection import train_test_split\n",
        "from sklearn.datasets import load_iris\n",
        "from sklearn.metrics import RocCurveDisplay, roc_curve, accuracy_score, confusion_matrix, roc_auc_score, classification_report\n",
        "\n",
        "continuous_variables = [\"BMI\", \"LDL\", \"A1c\", \"TG\"]\n",
        "binary_variables = [\"Depression\", \"Sex\"]\n",
        "\n",
        "# Training a Gaussian Naive Bayes model for continuous variables\n",
        "gnb = GaussianNB()\n",
        "gnb = gnb.fit(train_df[continuous_variables].to_numpy(), train_df[\"Diabetes\"])\n",
        "\n",
        "# Training a Bernoulli Naive Bayes model for binary variables\n",
        "bnb = BernoulliNB(alpha=1.0, binarize=0.5, fit_prior=True, class_prior=None)\n",
        "bnb = bnb.fit(train_df[binary_variables].to_numpy(), train_df[\"Diabetes\"])\n",
        "\n",
        "# Getting joint log probabilities for each model\n",
        "gnb_log_pred = gnb.predict_joint_log_proba(train_df[continuous_variables])\n",
        "bnb_log_pred = bnb.predict_joint_log_proba(train_df[binary_variables])\n",
        "\n",
        "# Combine the log probabilities\n",
        "y_hat_prob = gnb_log_pred + bnb_log_pred\n",
        "\n",
        "# Convert log probabilities back to probabilities\n",
        "y_hat_prob = np.exp(y_hat_prob)\n",
        "y_hat_prob = y_hat_prob / y_hat_prob.sum(1, keepdims=True)  # normalize to get valid probabilities\n",
        "\n",
        "# Get the predicted class labels\n",
        "y_hat = np.argmax(y_hat_prob, axis=1)\n",
        "\n",
        "# Evaluate the combined model using custom functions\n",
        "conf_matrix, class_report, auc, acc = get_scores(train_df['Diabetes'], y_hat)\n",
        "print_scores(conf_matrix, class_report, auc, acc)\n",
        "\n",
        "# Plot the ROC curve\n",
        "fpr, tpr, thresholds = roc_curve(train_df['Diabetes'], y_hat_prob[:, 1])\n",
        "display = RocCurveDisplay(fpr=fpr, tpr=tpr, roc_auc=auc, estimator_name='Naive Bayes')\n",
        "display.plot()\n",
        "ax = plt.gca()\n",
        "ax.get_lines()[0].set_color('#a3416c')"
      ],
      "metadata": {
        "colab": {
          "base_uri": "https://localhost:8080/",
          "height": 816
        },
        "id": "JstE9PKNptKI",
        "outputId": "3d553d57-21dd-4876-da3a-6e90bbd7562f"
      },
      "execution_count": 12,
      "outputs": [
        {
          "output_type": "stream",
          "name": "stderr",
          "text": [
            "/usr/local/lib/python3.10/dist-packages/sklearn/base.py:432: UserWarning: X has feature names, but GaussianNB was fitted without feature names\n",
            "  warnings.warn(\n",
            "/usr/local/lib/python3.10/dist-packages/sklearn/base.py:432: UserWarning: X has feature names, but BernoulliNB was fitted without feature names\n",
            "  warnings.warn(\n"
          ]
        },
        {
          "output_type": "stream",
          "name": "stdout",
          "text": [
            "AUC :  0.8181137531936794\n",
            "Accuracy :  0.8162857142857143\n",
            "Confusion Matrix:\n",
            "[[3015  390]\n",
            " [ 896 2699]]\n",
            "\n",
            "Classification Report:\n",
            "              precision    recall  f1-score   support\n",
            "\n",
            "           0       0.77      0.89      0.82      3405\n",
            "           1       0.87      0.75      0.81      3595\n",
            "\n",
            "    accuracy                           0.82      7000\n",
            "   macro avg       0.82      0.82      0.82      7000\n",
            "weighted avg       0.82      0.82      0.82      7000\n",
            "\n"
          ]
        },
        {
          "output_type": "display_data",
          "data": {
            "text/plain": [
              "<Figure size 640x480 with 1 Axes>"
            ],
            "image/png": "[encoded data removed]"
          },
          "metadata": {}
        }
      ]
    },
    {
      "cell_type": "markdown",
      "source": [
        "## 3.3 Evaluating Gausssian Naive Bayes Model on Validation Data"
      ],
      "metadata": {
        "id": "QrTELEqIsTCJ"
      }
    },
    {
      "cell_type": "code",
      "source": [
        "# Getting joint log probabilities for each model\n",
        "gnb_log_pred = gnb.predict_joint_log_proba(valid_df[continuous_variables])\n",
        "bnb_log_pred = bnb.predict_joint_log_proba(valid_df[binary_variables])\n",
        "\n",
        "# Combine the log probabilities\n",
        "y_hat_prob = gnb_log_pred + bnb_log_pred\n",
        "\n",
        "# Convert log probabilities back to probabilities\n",
        "y_hat_prob = np.exp(y_hat_prob)\n",
        "y_hat_prob = y_hat_prob / y_hat_prob.sum(1, keepdims=True)  # normalize to get valid probabilities\n",
        "\n",
        "# Get the predicted class labels\n",
        "y_hat = np.argmax(y_hat_prob, axis=1)\n",
        "\n",
        "# Evaluate the combined model using custom functions\n",
        "conf_matrix, class_report, auc, acc = get_scores(valid_df['Diabetes'], y_hat)\n",
        "print_scores(conf_matrix, class_report, auc, acc)\n",
        "\n",
        "# Plot the ROC curve\n",
        "fpr, tpr, thresholds = roc_curve(valid_df['Diabetes'], y_hat_prob[:, 1])\n",
        "display = RocCurveDisplay(fpr=fpr, tpr=tpr, roc_auc=auc, estimator_name='Naive Bayes')\n",
        "display.plot()\n",
        "ax = plt.gca()\n",
        "ax.get_lines()[0].set_color('#a3416c')"
      ],
      "metadata": {
        "colab": {
          "base_uri": "https://localhost:8080/",
          "height": 816
        },
        "id": "yyU113PHsVk_",
        "outputId": "14e2210f-d28a-4dbe-8190-b632dbd11ade"
      },
      "execution_count": 13,
      "outputs": [
        {
          "output_type": "stream",
          "name": "stderr",
          "text": [
            "/usr/local/lib/python3.10/dist-packages/sklearn/base.py:432: UserWarning: X has feature names, but GaussianNB was fitted without feature names\n",
            "  warnings.warn(\n",
            "/usr/local/lib/python3.10/dist-packages/sklearn/base.py:432: UserWarning: X has feature names, but BernoulliNB was fitted without feature names\n",
            "  warnings.warn(\n"
          ]
        },
        {
          "output_type": "stream",
          "name": "stdout",
          "text": [
            "AUC :  0.8153427429752229\n",
            "Accuracy :  0.814\n",
            "Confusion Matrix:\n",
            "[[658  79]\n",
            " [200 563]]\n",
            "\n",
            "Classification Report:\n",
            "              precision    recall  f1-score   support\n",
            "\n",
            "           0       0.77      0.89      0.83       737\n",
            "           1       0.88      0.74      0.80       763\n",
            "\n",
            "    accuracy                           0.81      1500\n",
            "   macro avg       0.82      0.82      0.81      1500\n",
            "weighted avg       0.82      0.81      0.81      1500\n",
            "\n"
          ]
        },
        {
          "output_type": "display_data",
          "data": {
            "text/plain": [
              "<Figure size 640x480 with 1 Axes>"
            ],
            "image/png": "[encoded data removed]"
          },
          "metadata": {}
        }
      ]
    },
    {
      "cell_type": "markdown",
      "source": [
        "## 3.4 Evaluating Gausssian Naive Bayes Model on Testing Data"
      ],
      "metadata": {
        "id": "cB0GX4yKsoWA"
      }
    },
    {
      "cell_type": "code",
      "source": [
        "# Getting joint log probabilities for each model\n",
        "gnb_log_pred = gnb.predict_joint_log_proba(test_df[continuous_variables])\n",
        "bnb_log_pred = bnb.predict_joint_log_proba(test_df[binary_variables])\n",
        "\n",
        "# Combine the log probabilities\n",
        "y_hat_prob = gnb_log_pred + bnb_log_pred\n",
        "\n",
        "# Convert log probabilities back to probabilities\n",
        "y_hat_prob = np.exp(y_hat_prob)\n",
        "y_hat_prob = y_hat_prob / y_hat_prob.sum(1, keepdims=True)  # normalize to get valid probabilities\n",
        "\n",
        "# Get the predicted class labels\n",
        "y_hat = np.argmax(y_hat_prob, axis=1)\n",
        "\n",
        "# Evaluate the combined model using custom functions\n",
        "conf_matrix, class_report, auc, acc = get_scores(test_df['Diabetes'], y_hat)\n",
        "print_scores(conf_matrix, class_report, auc, acc)\n",
        "\n",
        "# Plot the ROC curve\n",
        "fpr, tpr, thresholds = roc_curve(test_df['Diabetes'], y_hat_prob[:, 1])\n",
        "display = RocCurveDisplay(fpr=fpr, tpr=tpr, roc_auc=auc, estimator_name='Naive Bayes')\n",
        "display.plot()\n",
        "ax = plt.gca()\n",
        "ax.get_lines()[0].set_color('#a3416c')"
      ],
      "metadata": {
        "colab": {
          "base_uri": "https://localhost:8080/",
          "height": 816
        },
        "id": "1iRuIDNyst5G",
        "outputId": "7ed20cb0-fd01-4430-fdb4-cf9163435432"
      },
      "execution_count": 14,
      "outputs": [
        {
          "output_type": "stream",
          "name": "stderr",
          "text": [
            "/usr/local/lib/python3.10/dist-packages/sklearn/base.py:432: UserWarning: X has feature names, but GaussianNB was fitted without feature names\n",
            "  warnings.warn(\n",
            "/usr/local/lib/python3.10/dist-packages/sklearn/base.py:432: UserWarning: X has feature names, but BernoulliNB was fitted without feature names\n",
            "  warnings.warn(\n"
          ]
        },
        {
          "output_type": "stream",
          "name": "stdout",
          "text": [
            "AUC :  0.8278498911028442\n",
            "Accuracy :  0.8253333333333334\n",
            "Confusion Matrix:\n",
            "[[639  80]\n",
            " [182 599]]\n",
            "\n",
            "Classification Report:\n",
            "              precision    recall  f1-score   support\n",
            "\n",
            "           0       0.78      0.89      0.83       719\n",
            "           1       0.88      0.77      0.82       781\n",
            "\n",
            "    accuracy                           0.83      1500\n",
            "   macro avg       0.83      0.83      0.83      1500\n",
            "weighted avg       0.83      0.83      0.83      1500\n",
            "\n"
          ]
        },
        {
          "output_type": "display_data",
          "data": {
            "text/plain": [
              "<Figure size 640x480 with 1 Axes>"
            ],
            "image/png": "[encoded data removed]"
          },
          "metadata": {}
        }
      ]
    }
  ]
}